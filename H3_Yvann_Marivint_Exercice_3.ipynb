{
 "cells": [
  {
   "cell_type": "code",
   "execution_count": 4,
   "metadata": {
    "scrolled": true
   },
   "outputs": [],
   "source": [
    "class DateNaissance:\n",
    "    \n",
    "    def __init__(self,jour,mois,annee):\n",
    "        self.jour = jour\n",
    "        self.mois = mois\n",
    "        self.annee = annee\n",
    "        \n",
    "    def ToString(self):\n",
    "        return \"%02d / %02d / %d\" %(self.jour,self.mois,self.annee)\n",
    "        \n",
    "\n",
    "class Personne:\n",
    "    \n",
    "    def __init__(self,nom,prenom,dateNaissance):\n",
    "        self.nom = nom\n",
    "        self.prenom = prenom\n",
    "        self.dateNaissance = dateNaissance\n",
    "        \n",
    "    def Afficher(self):\n",
    "        print(\"Nom : \"+str(self.nom))\n",
    "        print(\"Prénom : \"+str(self.prenom))\n",
    "        print(\"Date naissance : \"+str(self.dateNaissance.ToString()))\n",
    "        \n",
    "\n",
    "class Employe(Personne):\n",
    "        \n",
    "    def __init__(self,nom,prenom,dateNaissance,salaire):\n",
    "        Personne.__init__(self,nom,prenom,dateNaissance)\n",
    "        self.salaire = salaire\n",
    "        \n",
    "    def Afficher(self):\n",
    "        Personne.Afficher(self)\n",
    "        print(\"Salaire: %.02f\"%self.salaire)\n",
    "        \n",
    "\n",
    "class Chef(Employe):\n",
    "    \n",
    "    def __init__(self,nom,prenom,dateNaissance,salaire,service):\n",
    "        Employe.__init__(self,nom,prenom,dateNaissance,salaire)\n",
    "        self.service = service\n",
    "        \n",
    "    def Afficher(self):\n",
    "        Employe.Afficher(self)\n",
    "        print(\"Service : \"+str(self.service))\n",
    "   \n",
    "\n"
   ]
  },
  {
   "cell_type": "code",
   "execution_count": 5,
   "metadata": {},
   "outputs": [
    {
     "name": "stdout",
     "output_type": "stream",
     "text": [
      "Nom : Marivint\n",
      "Prénom : Yvann\n",
      "Date naissance : 15 / 11 / 1996\n"
     ]
    }
   ],
   "source": [
    "P = Personne(\"Marivint\",\"Yvann\",DateNaissance(15,11,1996))\n",
    "P.Afficher()"
   ]
  },
  {
   "cell_type": "code",
   "execution_count": 6,
   "metadata": {},
   "outputs": [
    {
     "name": "stdout",
     "output_type": "stream",
     "text": [
      "Nom : Marivint\n",
      "Prénom : Yvann\n",
      "Date naissance : 15 / 11 / 1996\n",
      "Salaire: 7865.55\n"
     ]
    }
   ],
   "source": [
    "E = Employe(\"Marivint\",\"Yvann\",DateNaissance(15,11,1996),7865.548)\n",
    "E.Afficher()"
   ]
  },
  {
   "cell_type": "code",
   "execution_count": 7,
   "metadata": {},
   "outputs": [
    {
     "name": "stdout",
     "output_type": "stream",
     "text": [
      "Nom : Marivint\n",
      "Prénom : Yvann\n",
      "Date naissance : 15 / 11 / 1996\n",
      "Salaire: 7865.55\n",
      "Service : Ressource humaine\n"
     ]
    }
   ],
   "source": [
    "Ch = Chef(\"Marivint\",\"Yvann\",DateNaissance(15,11,1996),7865.548,\"Ressource humaine\")\n",
    "Ch.Afficher()"
   ]
  },
  {
   "cell_type": "code",
   "execution_count": null,
   "metadata": {},
   "outputs": [],
   "source": []
  }
 ],
 "metadata": {
  "kernelspec": {
   "display_name": "Python 3",
   "language": "python",
   "name": "python3"
  },
  "language_info": {
   "codemirror_mode": {
    "name": "ipython",
    "version": 3
   },
   "file_extension": ".py",
   "mimetype": "text/x-python",
   "name": "python",
   "nbconvert_exporter": "python",
   "pygments_lexer": "ipython3",
   "version": "3.7.3"
  }
 },
 "nbformat": 4,
 "nbformat_minor": 4
}
